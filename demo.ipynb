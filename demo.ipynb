{
 "cells": [
  {
   "cell_type": "code",
   "execution_count": 1,
   "metadata": {},
   "outputs": [
    {
     "data": {
      "application/vnd.jupyter.widget-view+json": {
       "model_id": "83064baed2254a56b859faf75ca6bec7",
       "version_major": 2,
       "version_minor": 0
      },
      "text/plain": [
       "Loading checkpoint shards:   0%|          | 0/4 [00:00<?, ?it/s]"
      ]
     },
     "metadata": {},
     "output_type": "display_data"
    }
   ],
   "source": [
    "import torch\n",
    "from peft import PeftModel\n",
    "from transformers import AutoModelForCausalLM, AutoTokenizer\n",
    "import os\n",
    "\n",
    "device = torch.device(\"cuda:1\")\n",
    "base_model_path = \"google/gemma-7b\"\n",
    "peft_path = \"fzp0424/Ladder-7B-LoRA\"\n",
    "# Load base model and LoRA weights\n",
    "model = AutoModelForCausalLM.from_pretrained(base_model_path, torch_dtype='auto', device_map = device)\n",
    "model = PeftModel.from_pretrained(model, peft_path, torch_dtype='auto', device_map = device)\n",
    "model.merge_and_unload()\n",
    "tokenizer = AutoTokenizer.from_pretrained(base_model_path, padding_side='left')\n"
   ]
  },
  {
   "cell_type": "code",
   "execution_count": 2,
   "metadata": {},
   "outputs": [
    {
     "name": "stdout",
     "output_type": "stream",
     "text": [
      "我认为EMNLP是世界上最好的NLP会议！\n"
     ]
    }
   ],
   "source": [
    "from utils.utils import LANG_TABLE\n",
    "from utils.build_dataset import get_inter_prompt\n",
    "from inference import get_pair_suffix, clean_outputstring\n",
    "import logging\n",
    "logger = logging.getLogger(__name__)\n",
    "\n",
    "test_case = {\n",
    "        \"translation\": {\n",
    "            \"pair\": \"en-zh\",\n",
    "            \"en\": \"I think EMNLP is the best NLP conference in the world!\",\n",
    "            \"medium\": \"我认为EMNLP是最棒的会议\",\n",
    "            \"shots\": []\n",
    "        }\n",
    "    }\n",
    "\n",
    "item = test_case[\"translation\"]\n",
    "shots = item['shots'] \n",
    "src_lan = item['pair'].split(\"-\")[0]\n",
    "tgt_lan = item['pair'].split(\"-\")[1]\n",
    "prompt = get_inter_prompt(src_lan, tgt_lan, item, shots)\n",
    "input_ids = tokenizer(prompt, return_tensors=\"pt\", padding=True, max_length=512, truncation=True).input_ids.to(device)\n",
    "\n",
    "# Translation\n",
    "with torch.no_grad():\n",
    "    generated_ids = model.generate(input_ids=input_ids, num_beams=5, max_new_tokens=256, do_sample=True, temperature=0.6, top_p=0.9)\n",
    "output = tokenizer.batch_decode(generated_ids, skip_special_tokens=True)\n",
    "suffix = get_pair_suffix(tgt_lan) \n",
    "suffix_count = output[0].count(suffix)\n",
    "pred = clean_outputstring(output[0], suffix, logger, suffix_count)\n",
    "\n",
    "print(pred)"
   ]
  }
 ],
 "metadata": {
  "kernelspec": {
   "display_name": "Python 3.10.13 ('chatglm_etuning': conda)",
   "language": "python",
   "name": "python3"
  },
  "language_info": {
   "codemirror_mode": {
    "name": "ipython",
    "version": 3
   },
   "file_extension": ".py",
   "mimetype": "text/x-python",
   "name": "python",
   "nbconvert_exporter": "python",
   "pygments_lexer": "ipython3",
   "version": "3.10.12"
  },
  "orig_nbformat": 4,
  "vscode": {
   "interpreter": {
    "hash": "d8a1dd910db45e0c3361d702c58dd23e0f2853fe049b9fce34ed5e096bc7f57e"
   }
  }
 },
 "nbformat": 4,
 "nbformat_minor": 2
}
